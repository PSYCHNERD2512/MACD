{
 "cells": [
  {
   "cell_type": "code",
   "execution_count": 1,
   "id": "53239b36-7579-4b6c-a0eb-ae8d436c2bab",
   "metadata": {},
   "outputs": [],
   "source": [
    "import pandas as pd\n",
    "import numpy as np"
   ]
  },
  {
   "cell_type": "code",
   "execution_count": 2,
   "id": "55a683d9-24f1-4c6c-9e62-c7cb3fd13fd1",
   "metadata": {},
   "outputs": [],
   "source": [
    "def calculate_macd(data, short_window=12, long_window=26, signal_window=9):\n",
    "    short_ema = data['Close'].ewm(span=short_window, min_periods=1, adjust=False).mean()\n",
    "    long_ema = data['Close'].ewm(span=long_window, min_periods=1, adjust=False).mean()\n",
    "    data['MACD'] = short_ema - long_ema\n",
    "    data['Signal_Line'] = data['MACD'].ewm(span=signal_window, min_periods=1, adjust=False).mean()\n",
    "    data['Impulsive MACD'] = data['MACD'] - data['Signal_Line']\n",
    "    return data"
   ]
  },
  {
   "cell_type": "code",
   "execution_count": 3,
   "id": "111d4496-4a72-4214-aa3c-248db434ba02",
   "metadata": {},
   "outputs": [],
   "source": [
    "def calculate_rsi(data, window=14):\n",
    "    delta = data['Close'].diff(1)\n",
    "    gain = delta.where(delta > 0, 0)\n",
    "    loss = -delta.where(delta < 0, 0)\n",
    "\n",
    "    avg_gain = gain.rolling(window=window, min_periods=1).mean()\n",
    "    avg_loss = loss.rolling(window=window, min_periods=1).mean()\n",
    "\n",
    "    rs = avg_gain / avg_loss\n",
    "    rsi = 100 - (100 / (1 + rs))\n",
    "    data['RSI'] = rsi\n",
    "    return data"
   ]
  },
  {
   "cell_type": "code",
   "execution_count": 4,
   "id": "ddd4b01e-ef32-4c37-90da-41031e13845f",
   "metadata": {},
   "outputs": [],
   "source": [
    "def find_buy_sell_positions(stock_data):\n",
    "    buy_positions = []\n",
    "    sell_positions = []\n",
    "\n",
    "    for i in range(1, len(stock_data)):\n",
    "        if stock_data['Impulsive MACD'][i] != 0:\n",
    "            if stock_data['Impulsive MACD'][i] > 0:\n",
    "                buy_positions.append(i)\n",
    "            elif stock_data['RSI'][i] > 65:\n",
    "                sell_positions.append(i)\n",
    "\n",
    "    return buy_positions, sell_positions"
   ]
  },
  {
   "cell_type": "code",
   "execution_count": 5,
   "id": "27e552b6-0d96-4a81-ae6a-b6e0d44b4539",
   "metadata": {},
   "outputs": [],
   "source": [
    "file_path = '^NSEI.csv'\n",
    "stock_data = pd.read_csv(file_path)"
   ]
  },
  {
   "cell_type": "code",
   "execution_count": 6,
   "id": "5593f3ae-1ea8-4618-a2b0-9922255213d8",
   "metadata": {},
   "outputs": [],
   "source": [
    "stock_data = calculate_rsi(stock_data)\n",
    "stock_data = calculate_macd(stock_data)\n",
    "buy_positions, sell_positions = find_buy_sell_positions(stock_data)"
   ]
  },
  {
   "cell_type": "code",
   "execution_count": 10,
   "id": "f0036f79-5d36-498a-a9ab-58342af98085",
   "metadata": {},
   "outputs": [],
   "source": [
    "\n",
    "buy_dates = stock_data['Date'].iloc[buy_positions]\n",
    "sell_dates = stock_data['Date'].iloc[sell_positions]\n",
    "buy_dates_df = pd.DataFrame({'Buy_Date': buy_dates})\n",
    "sell_dates_df = pd.DataFrame({'Sell_Date': sell_dates})"
   ]
  },
  {
   "cell_type": "code",
   "execution_count": 12,
   "id": "392e20de-3418-4359-b644-0e5f8cc791c9",
   "metadata": {},
   "outputs": [],
   "source": [
    "buy_dates_df.to_csv('buy_dates.csv', index=False)\n",
    "sell_dates_df.to_csv('sell_dates.csv', index=False)"
   ]
  },
  {
   "cell_type": "code",
   "execution_count": null,
   "id": "131bab31-f51b-4375-9afc-1aa16a26130d",
   "metadata": {},
   "outputs": [],
   "source": []
  },
  {
   "cell_type": "code",
   "execution_count": null,
   "id": "bfa9dd81-7a27-4c59-9c77-3184b7aad1ea",
   "metadata": {},
   "outputs": [],
   "source": []
  }
 ],
 "metadata": {
  "kernelspec": {
   "display_name": "Python 3 (ipykernel)",
   "language": "python",
   "name": "python3"
  },
  "language_info": {
   "codemirror_mode": {
    "name": "ipython",
    "version": 3
   },
   "file_extension": ".py",
   "mimetype": "text/x-python",
   "name": "python",
   "nbconvert_exporter": "python",
   "pygments_lexer": "ipython3",
   "version": "3.10.10"
  }
 },
 "nbformat": 4,
 "nbformat_minor": 5
}
